{
 "cells": [
  {
   "cell_type": "code",
   "execution_count": 37,
   "metadata": {},
   "outputs": [],
   "source": [
    "import numpy as np;\n",
    "import csv\n",
    "import pandas as pd\n",
    "from sklearn.kernel_ridge import KernelRidge\n",
    "from sklearn.model_selection import KFold \n",
    "import math\n",
    "\n",
    "import sklearn\n",
    "import statistics as stcs\n",
    "import matplotlib.pyplot as plt\n",
    "import scipy.stats as stats\n",
    "from sklearn.model_selection import GridSearchCV, RandomizedSearchCV\n",
    "from sklearn.svm import SVR\n",
    "from sklearn.pipeline import make_pipeline\n",
    "from sklearn.preprocessing import StandardScaler,scale,MinMaxScaler\n",
    "from scipy.stats import uniform,expon\n",
    "from sklearn.model_selection import cross_val_score\n",
    "from time import time"
   ]
  },
  {
   "cell_type": "code",
   "execution_count": 38,
   "metadata": {},
   "outputs": [],
   "source": [
    "data = pd.read_csv('NMC_numerical.csv')\n",
    "\n",
    "np.random.seed(1001)\n",
    "def data_split (data, test_ratio):\n",
    "    df = pd.DataFrame(data)\n",
    "    total_row = df.shape[0]\n",
    "    test_row = round(total_row *test_ratio)\n",
    "    train_row = total_row -test_row\n",
    "    indices =np.random.permutation(total_row)\n",
    "    train_indx, test_idx =indices[:train_row], indices[train_row:]\n",
    "    train,test = df.iloc[train_indx,:], df.iloc[test_idx,:]\n",
    "    X_test = test.iloc[:,0:20]\n",
    "    y_test = test.iloc [:,20]\n",
    "    X_train = train.iloc[:,0:20]\n",
    "    y_train = train.iloc [:,20]\n",
    "    return train,test,X_train,y_train,X_test,y_test\n",
    "    \n",
    "train,test,X_train,y_train,X_test,y_test = data_split(data,0.2)\n",
    "\n",
    "kf = KFold(n_splits=5,random_state =1001,shuffle= True)\n",
    "\n"
   ]
  },
  {
   "cell_type": "code",
   "execution_count": 39,
   "metadata": {},
   "outputs": [
    {
     "name": "stdout",
     "output_type": "stream",
     "text": [
      "StandardScaler(copy=True, with_mean=True, with_std=True)\n",
      "[1.05397059e+00 4.21088235e-01 1.81235294e-01 3.18705882e-01\n",
      " 2.67941176e-02 2.86320588e+00 1.42244088e+01 1.00991235e+02\n",
      " 1.14176471e+02 2.54558824e+00 4.52058824e+00 6.49744118e+01\n",
      " 9.22188235e+01 2.85882353e+01 1.39794118e+00 1.30294118e+01\n",
      " 6.30382353e+02 4.01705882e-01 1.78911765e+02 1.55588235e+02]\n",
      "StandardScaler(copy=True, with_mean=True, with_std=True)\n",
      "[1.05327407e+00 4.51525926e-01 1.75577778e-01 2.92014815e-01\n",
      " 2.84296296e-02 2.86484296e+00 1.42284696e+01 1.01135193e+02\n",
      " 1.18084444e+02 2.52851852e+00 4.52740741e+00 6.85400741e+01\n",
      " 9.22019259e+01 3.02370370e+01 1.51066667e+00 1.46518519e+01\n",
      " 6.43229630e+02 4.45681481e-01 1.74740741e+02 1.52814815e+02]\n"
     ]
    }
   ],
   "source": [
    "clf = StandardScaler(with_mean=True,with_std=True)\n",
    "print(clf.fit(X_test))\n",
    "print(clf.mean_)\n",
    "\n",
    "X_test = pd.DataFrame(clf.transform(X_test))\n",
    "\n",
    "print(clf.fit(X_train))\n",
    "print(clf.mean_)\n",
    "X_train = pd.DataFrame(clf.transform(X_train))"
   ]
  },
  {
   "cell_type": "code",
   "execution_count": 40,
   "metadata": {},
   "outputs": [
    {
     "name": "stdout",
     "output_type": "stream",
     "text": [
      "Fitting 5 folds for each of 300 candidates, totalling 1500 fits\n"
     ]
    },
    {
     "name": "stderr",
     "output_type": "stream",
     "text": [
      "/Users/mike/anaconda3/lib/python3.7/site-packages/sklearn/model_selection/_search.py:266: UserWarning: The total space of parameters 300 is smaller than n_iter=20000. Running 300 iterations. For exhaustive searches, use GridSearchCV.\n",
      "  % (grid_size, self.n_iter, grid_size), UserWarning)\n",
      "[Parallel(n_jobs=-1)]: Using backend LokyBackend with 16 concurrent workers.\n",
      "[Parallel(n_jobs=-1)]: Done   9 tasks      | elapsed:    2.3s\n",
      "[Parallel(n_jobs=-1)]: Done  18 tasks      | elapsed:    2.4s\n",
      "[Parallel(n_jobs=-1)]: Done  29 tasks      | elapsed:    2.4s\n",
      "[Parallel(n_jobs=-1)]: Done  40 tasks      | elapsed:    2.5s\n",
      "[Parallel(n_jobs=-1)]: Batch computation too fast (0.1720s.) Setting batch_size=2.\n",
      "[Parallel(n_jobs=-1)]: Done  53 tasks      | elapsed:    2.5s\n",
      "[Parallel(n_jobs=-1)]: Done  66 tasks      | elapsed:    2.5s\n",
      "[Parallel(n_jobs=-1)]: Done  81 tasks      | elapsed:    2.6s\n",
      "[Parallel(n_jobs=-1)]: Batch computation too fast (0.0"
     ]
    },
    {
     "data": {
      "text/html": [
       "<b>limit_output extension: Maximum message size of 1000 exceeded with 1092 characters</b>"
      ]
     },
     "metadata": {},
     "output_type": "display_data"
    }
   ],
   "source": [
    "rand_para = {'kernel':['rbf','laplacian','polynomial'],'gamma':np.logspace(-4,4),'alpha':range(0,2)}\n",
    "KRR_model =KernelRidge()\n",
    "n_iteration = 20000\n",
    "Scoring = ['explained_variance','neg_mean_squared_error',\"r2\"]\n",
    "random_search = RandomizedSearchCV(KRR_model,param_distributions=rand_para,cv =5,scoring=Scoring,\n",
    "                                   error_score=0,random_state=1001,return_train_score=True,n_jobs=-1,n_iter=n_iteration,verbose=10,refit=False)\n",
    "\n",
    "\n",
    "start = time()\n",
    "\n",
    "random_search.fit(X_train,y_train)\n",
    "\n",
    "#y_predict=random_search.predict(X_test)\n",
    "#math.sqrt(stcs.mean((y_predict-y_test)**2))\n",
    "\n"
   ]
  },
  {
   "cell_type": "code",
   "execution_count": 41,
   "metadata": {},
   "outputs": [],
   "source": [
    "a=pd.DataFrame(random_search.cv_results_)"
   ]
  },
  {
   "cell_type": "code",
   "execution_count": 42,
   "metadata": {},
   "outputs": [
    {
     "data": {
      "text/html": [
       "<div>\n",
       "<style scoped>\n",
       "    .dataframe tbody tr th:only-of-type {\n",
       "        vertical-align: middle;\n",
       "    }\n",
       "\n",
       "    .dataframe tbody tr th {\n",
       "        vertical-align: top;\n",
       "    }\n",
       "\n",
       "    .dataframe thead th {\n",
       "        text-align: right;\n",
       "    }\n",
       "</style>\n",
       "<table border=\"1\" class=\"dataframe\">\n",
       "  <thead>\n",
       "    <tr style=\"text-align: right;\">\n",
       "      <th></th>\n",
       "      <th>mean_fit_time</th>\n",
       "      <th>std_fit_time</th>\n",
       "      <th>mean_score_time</th>\n",
       "      <th>std_score_time</th>\n",
       "      <th>param_kernel</th>\n",
       "      <th>param_gamma</th>\n",
       "      <th>param_alpha</th>\n",
       "      <th>params</th>\n",
       "      <th>split0_test_explained_variance</th>\n",
       "      <th>split1_test_explained_variance</th>\n",
       "      <th>...</th>\n",
       "      <th>mean_test_r2</th>\n",
       "      <th>std_test_r2</th>\n",
       "      <th>rank_test_r2</th>\n",
       "      <th>split0_train_r2</th>\n",
       "      <th>split1_train_r2</th>\n",
       "      <th>split2_train_r2</th>\n",
       "      <th>split3_train_r2</th>\n",
       "      <th>split4_train_r2</th>\n",
       "      <th>mean_train_r2</th>\n",
       "      <th>std_train_r2</th>\n",
       "    </tr>\n",
       "  </thead>\n",
       "  <tbody>\n",
       "    <tr"
      ],
      "text/plain": [
       "     mean_fit_time  std_fit_time  mean_score_time  std_score_time  \\\n",
       "0         0.017010      0.002113         0.003325        0.000128   \n",
       "1         0.020162      0.003852         0.003396        0.000105   \n",
       "2         0.019877      0.003611         0.003043        0.000247   \n",
       "3         0.007859      0.005409         0.003046        0.000209   \n",
       "4         0.003152      0.000258         0.002537        0.000027   \n",
       "5         0.002904      0.000035         0.002074        0.000019   \n",
       "6         0.002815      0.000151         0.002346        0.000081   \n",
       "7         0.002729      0.000085         0.002295        0.000171   \n",
       "8         0.002440      0.000130         0.001702        0.000030   \n",
       "9         0.002333      0.000152         0.001902        0.000073   \n",
       "10        0.002172      0.000100         0.001786        0.000078   \n",
       "11        0.002040      0.000024         0.001425        0.000054   \n",
       "12        0.001839      0.000064         0.001554        0.000038   \n",
       "13        0.001861      0.000031  "
      ]
     },
     "execution_count": 42,
     "metadata": {},
     "output_type": "execute_result"
    },
    {
     "data": {
      "text/html": [
       "<b>limit_output extension: Maximum message size of 1000 exceeded with 36392 characters</b>"
      ]
     },
     "metadata": {},
     "output_type": "display_data"
    }
   ],
   "source": [
    "a"
   ]
  },
  {
   "cell_type": "code",
   "execution_count": 43,
   "metadata": {},
   "outputs": [],
   "source": [
    "a.to_csv('T2_IC_NMC_KRR_hp_5_fold.csv')"
   ]
  },
  {
   "cell_type": "markdown",
   "metadata": {},
   "source": [
    "# Training"
   ]
  },
  {
   "cell_type": "code",
   "execution_count": 82,
   "metadata": {},
   "outputs": [],
   "source": [
    "KRR_model_optimal =KernelRidge(kernel ='laplacian',gamma=0.040949151,alpha =0)\n",
    "np.random.seed(1001)\n",
    "KRR_model_optimal.fit(X_train,y_train)\n",
    "y_predict=KRR_model_optimal.predict(X_test)"
   ]
  },
  {
   "cell_type": "code",
   "execution_count": 83,
   "metadata": {},
   "outputs": [
    {
     "data": {
      "text/plain": [
       "19.420127918864914"
      ]
     },
     "execution_count": 83,
     "metadata": {},
     "output_type": "execute_result"
    }
   ],
   "source": [
    "math.sqrt(stcs.mean((y_predict-y_test)**2))"
   ]
  },
  {
   "cell_type": "code",
   "execution_count": 84,
   "metadata": {},
   "outputs": [
    {
     "data": {
      "text/plain": [
       "0.5651095789521648"
      ]
     },
     "execution_count": 84,
     "metadata": {},
     "output_type": "execute_result"
    }
   ],
   "source": [
    "math.sqrt(stcs.mean((y_predict-y_test)**2))\n",
    "\n",
    "SS_res = sum((y_predict-y_test)**2)\n",
    "SS_tot = sum((y_test-stcs.mean(y_test))**2)\n",
    "\n",
    "1-SS_res/SS_tot"
   ]
  },
  {
   "cell_type": "code",
   "execution_count": 87,
   "metadata": {},
   "outputs": [],
   "source": [
    "np.random.seed(1001)\n",
    "\n",
    "KRR_model_optimal =KernelRidge(kernel ='laplacian',gamma=0.040949151,alpha =0)\n",
    "\n",
    "train_results =[]\n",
    "train_results_name =['Experimental','Predicted','RMSE']\n",
    "\n",
    "\n",
    "for train_index, test_index in kf.split(X_train):\n",
    "    #print(\"Train:\", train_index, \"Validation:\", test_index)\n",
    "    X_training, X_validate = X_train.iloc[train_index], X_train.iloc[test_index]\n",
    "    y_training, y_validate = y_train.iloc[train_index], y_train.iloc[test_index]\n",
    "    np.random.seed(1001)\n",
    "    KRR_model_optimal.fit(X_training,y_training)\n",
    "    y_train_predicted = KRR_model_optimal.predict(X_validate)\n",
    "    number_ob =X_validate.shape[0]\n",
    "    squared_deviations=(y_train_predicted-y_validate)**2\n",
    "    RMSE=math.sqrt(squared_deviations.sum()/number_ob)\n",
    "    #RMSE = math.sqrt(stcs.mean((y_train_predicted-y_validate)**2))\n",
    "    train_results.append([y_validate,y_train_predicted,RMSE])\n"
   ]
  },
  {
   "cell_type": "code",
   "execution_count": 88,
   "metadata": {},
   "outputs": [
    {
     "data": {
      "text/plain": [
       "22.48309291102192"
      ]
     },
     "execution_count": 88,
     "metadata": {},
     "output_type": "execute_result"
    }
   ],
   "source": [
    "Train_results =pd.DataFrame (train_results,columns=train_results_name)\n",
    "np.average(Train_results['RMSE'])"
   ]
  },
  {
   "cell_type": "code",
   "execution_count": 89,
   "metadata": {},
   "outputs": [],
   "source": [
    "predict_results = pd.DataFrame (Train_results.iloc[:,1])\n",
    "\n",
    "#predict_results.drop(labels=None)"
   ]
  },
  {
   "cell_type": "code",
   "execution_count": 90,
   "metadata": {},
   "outputs": [],
   "source": [
    "Experimental =[]\n",
    "Predicted =[]\n",
    "\n",
    "for i in range(Train_results.shape[0]):\n",
    "    Ex=Train_results.iloc[i,0].to_string(index=False)\n",
    "    Pred = pd.DataFrame(Train_results.iloc[i,1]).to_string(index_names=False,index=False,header=False)\n",
    "    Ex_num = Ex.split(\"\\n \")\n",
    "    Pre = Pred.split(\"\\n \")\n",
    "    a = np.array([float(i) for i in Ex_num])\n",
    "    b = np.array([float(c) for c in Pre])\n",
    "    Experimental.extend(a)\n",
    "    Predicted.extend(b)\n"
   ]
  },
  {
   "cell_type": "code",
   "execution_count": 91,
   "metadata": {},
   "outputs": [],
   "source": [
    "Ex= pd.DataFrame(Experimental)\n",
    "\n",
    "Pred = pd.DataFrame(Predicted)\n",
    "\n",
    "results =pd.concat([Ex,Pred],axis=1,sort=False)"
   ]
  },
  {
   "cell_type": "code",
   "execution_count": 92,
   "metadata": {},
   "outputs": [],
   "source": [
    "results.to_csv('KRR-IC-TRAIN-EXPERIMENT-PREDICTED.csv')"
   ]
  },
  {
   "cell_type": "code",
   "execution_count": 93,
   "metadata": {},
   "outputs": [],
   "source": [
    "Pre_y_test = pd.DataFrame(y_predict,index=None)\n",
    "Ex_y_test =pd.DataFrame(y_test)\n",
    "Ex_y_test.reset_index(drop=True, inplace=True)\n",
    "\n",
    "results_test =pd.concat([Ex_y_test,Pre_y_test],axis=1,join='inner')"
   ]
  },
  {
   "cell_type": "code",
   "execution_count": 94,
   "metadata": {},
   "outputs": [],
   "source": [
    "results_test.to_csv('KRR-IC-TEST--EXPERIMENT-PREDICTED.csv')"
   ]
  },
  {
   "cell_type": "code",
   "execution_count": 107,
   "metadata": {},
   "outputs": [
    {
     "data": {
      "image/png": "[encoded data removed]",
      "text/plain": [
       "<Figure size 432x288 with 1 Axes>"
      ]
     },
     "metadata": {
      "needs_background": "light"
     },
     "output_type": "display_data"
    }
   ],
   "source": [
    "import numpy\n",
    "import matplotlib.axes as ax\n",
    "import matplotlib.pyplot as plt\n",
    "\n",
    "x= y_test\n",
    "y=y_predict \n",
    "\n",
    "plt.axis([50,360,50,360])\n",
    "plt.scatter(y=results.iloc[:,1],x=results.iloc[:,0],c='deepskyblue',label='Training')\n",
    "plt.scatter(x,y, c='blue',label='Test')\n",
    "plt.plot([50,360],[50,360],label ='True line',c='red')\n",
    "plt.legend(loc='lower right')\n",
    "#plt.title(label='SVM-EC-Results-Plot')\n",
    "\n",
    "plt.xlabel(r'Experimental Initial Discharge Capacity (mAh/g)')\n",
    "plt.ylabel(r'Prediscted Initial Discharge Capacity (mAh/g)')\n",
    "plt.text(60,280,r'$RMSE_{train}=22.48mAgh^{-1}$'+'\\n'+r'$RMSE_{test}=19.42 mAgh^{-1}$' +\"\\n\"+ '$R^2_{test}=0.57$')\n",
    "\n",
    "plt.savefig('KRR-IC-Predicted-vs-test.png',dpi=600)\n",
    "plt.show()\n"
   ]
  },
  {
   "cell_type": "code",
   "execution_count": null,
   "metadata": {},
   "outputs": [],
   "source": []
  }
 ],
 "metadata": {
  "kernelspec": {
   "display_name": "Python 3",
   "language": "python",
   "name": "python3"
  },
  "language_info": {
   "codemirror_mode": {
    "name": "ipython",
    "version": 3
   },
   "file_extension": ".py",
   "mimetype": "text/x-python",
   "name": "python",
   "nbconvert_exporter": "python",
   "pygments_lexer": "ipython3",
   "version": "3.7.3"
  },
  "latex_envs": {
   "LaTeX_envs_menu_present": true,
   "autoclose": false,
   "autocomplete": true,
   "bibliofile": "biblio.bib",
   "cite_by": "apalike",
   "current_citInitial": 1,
   "eqLabelWithNumbers": true,
   "eqNumInitial": 1,
   "hotkeys": {
    "equation": "Ctrl-E",
    "itemize": "Ctrl-I"
   },
   "labels_anchors": false,
   "latex_user_defs": false,
   "report_style_numbering": false,
   "user_envs_cfg": false
  },
  "toc": {
   "base_numbering": 1,
   "nav_menu": {},
   "number_sections": true,
   "sideBar": true,
   "skip_h1_title": false,
   "title_cell": "Table of Contents",
   "title_sidebar": "Contents",
   "toc_cell": false,
   "toc_position": {},
   "toc_section_display": true,
   "toc_window_display": false
  },
  "varInspector": {
   "cols": {
    "lenName": 16,
    "lenType": 16,
    "lenVar": 40
   },
   "kernels_config": {
    "python": {
     "delete_cmd_postfix": "",
     "delete_cmd_prefix": "del ",
     "library": "var_list.py",
     "varRefreshCmd": "print(var_dic_list())"
    },
    "r": {
     "delete_cmd_postfix": ") ",
     "delete_cmd_prefix": "rm(",
     "library": "var_list.r",
     "varRefreshCmd": "cat(var_dic_list()) "
    }
   },
   "types_to_exclude": [
    "module",
    "function",
    "builtin_function_or_method",
    "instance",
    "_Feature"
   ],
   "window_display": false
  }
 },
 "nbformat": 4,
 "nbformat_minor": 2
}
