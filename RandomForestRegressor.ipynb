{
 "cells": [
  {
   "cell_type": "code",
   "execution_count": 1,
   "metadata": {},
   "outputs": [],
   "source": [
    "import numpy as np;\n",
    "import csv\n",
    "import pandas as pd\n",
    "from sklearn.ensemble import RandomForestRegressor\n",
    "from sklearn.model_selection import KFold \n",
    "import math\n",
    "#import pydot\n",
    "#import graphviz\n",
    "from notebook.services.config import ConfigManager\n",
    "cm = ConfigManager().update('notebook', {'limit_output': 1000})\n",
    "import statistics as stcs\n",
    "\n",
    "import sklearn as sk\n",
    "from sklearn.model_selection import GridSearchCV, RandomizedSearchCV\n",
    "from sklearn.svm import SVR\n",
    "from sklearn.pipeline import make_pipeline\n",
    "from sklearn.preprocessing import StandardScaler,scale,MinMaxScaler\n",
    "from scipy.stats import uniform,expon\n",
    "from sklearn.model_selection import cross_val_score"
   ]
  },
  {
   "cell_type": "code",
   "execution_count": 18,
   "metadata": {},
   "outputs": [],
   "source": [
    "np.random.seed(1001)\n",
    "data = pd.read_csv('NMC_numerical.csv')\n",
    "\n",
    "def data_split (data, test_ratio):\n",
    "    np.random.seed(1001)\n",
    "    df = pd.DataFrame(data)\n",
    "    total_row = df.shape[0]\n",
    "    test_row = round(total_row *test_ratio)\n",
    "    train_row = total_row -test_row\n",
    "    indices =np.random.permutation(total_row)\n",
    "    train_indx, test_idx =indices[:train_row], indices[train_row:]\n",
    "    train,test = df.iloc[train_indx,:], df.iloc[test_idx,:]\n",
    "    X_test = test.iloc[:,0:20]\n",
    "    y_test = test.iloc [:,20]\n",
    "    X_train = train.iloc[:,0:20]\n",
    "    y_train = train.iloc [:,20]\n",
    "    return train,X_train,y_train,X_test,y_test\n",
    "    \n",
    "train,X_train,y_train,X_test,y_test = data_split(data,0.2)\n",
    "\n",
    "\n",
    "# 10-fold cross validation\n",
    "kf = KFold(n_splits=5,random_state =1001,shuffle= True)\n"
   ]
  },
  {
   "cell_type": "code",
   "execution_count": 3,
   "metadata": {},
   "outputs": [
    {
     "data": {
      "text/plain": [
       "27.0"
      ]
     },
     "execution_count": 3,
     "metadata": {},
     "output_type": "execute_result"
    }
   ],
   "source": [
    "len(y_train)/5"
   ]
  },
  {
   "cell_type": "code",
   "execution_count": null,
   "metadata": {},
   "outputs": [
    {
     "name": "stdout",
     "output_type": "stream",
     "text": [
      "Fitting 10 folds for each of 1000 candidates, totalling 10000 fits\n"
     ]
    },
    {
     "name": "stderr",
     "output_type": "stream",
     "text": [
      "[Parallel(n_jobs=-1)]: Using backend LokyBackend with 16 concurrent workers.\n",
      "[Parallel(n_jobs=-1)]: Done   9 tasks      | elapsed:    4.3s\n",
      "[Parallel(n_jobs=-1)]: Done  18 tasks      | elapsed:    4.9s\n",
      "[Parallel(n_jobs=-1)]: Done  29 tasks      | elapsed:    5.4s\n",
      "[Parallel(n_jobs=-1)]: Done  40 tasks      | elapsed:    5.6s\n",
      "[Parallel(n_jobs=-1)]: Done  53 tasks      | elapsed:    7.1s\n",
      "[Parallel(n_jobs=-1)]: Done  66 tasks      | elapsed:    8.6s\n",
      "[Parallel(n_jobs=-1)]: Done  81 tasks      | elapsed:    9.3s\n",
      "[Parallel(n_jobs=-1)]: Done  96 tasks      | elapsed:   12.2s\n",
      "[Parallel(n_jobs=-1)]: Done 113 tasks      | elapsed:   13.1s\n",
      "[Parallel(n_jobs=-1)]: Done 130 tasks      | elapsed:   14.7s\n",
      "[Parallel(n_jobs=-1)]: Done 149 tasks      | elapsed:   20.0s\n",
      "[Parallel(n_jobs=-1)]: Done 168 tasks      | elapsed:   21.7s\n",
      "[Parallel(n_jobs=-1)]: Done 189 tasks      | elapsed:   23.8s\n",
      "[Parallel(n_jobs=-1)]: Done 210 tasks      | elaps"
     ]
    },
    {
     "data": {
      "text/html": [
       "<b>limit_output extension: Maximum message size of 1000 exceeded with 1012 characters</b>"
      ]
     },
     "metadata": {},
     "output_type": "display_data"
    }
   ],
   "source": [
    "rand_para = {'n_estimators':range(200,4000),'max_features':range(5,33),'min_samples_split':range(1,10),\n",
    "             'max_depth': range(1,15),'min_samples_leaf': range(1,15)}\n",
    "reg=RandomForestRegressor(random_state = 1001)\n",
    "\n",
    "n_iteration = 1000\n",
    "Scoring = ['explained_variance','neg_mean_squared_error',\"r2\"]\n",
    "random_search = RandomizedSearchCV(reg,param_distributions=rand_para,cv =10,\n",
    "                                   error_score=0,random_state=1001,return_train_score=True,n_jobs=-1,n_iter=n_iteration,verbose=10,refit=True)\n",
    "\n",
    "#scoring=Scoring,\n",
    "\n",
    "random_search.fit(X_train,y_train)\n",
    "\n",
    "#y_predict=random_search.predict(X_test)\n",
    "#math.sqrt(stcs.mean((y_predict-y_test)**2))"
   ]
  },
  {
   "cell_type": "code",
   "execution_count": 19,
   "metadata": {},
   "outputs": [],
   "source": [
    "RF_model_IC =RandomForestRegressor(n_estimators=1020,max_features=10,min_samples_split=2,\n",
    "             max_depth=10,min_samples_leaf=1,random_state = 1001)\n",
    "\n",
    "train_results =[]\n",
    "train_results_name =['Experimental','Predicted','RMSE']\n",
    "\n",
    "\n",
    "for train_index, test_index in kf.split(X_train):\n",
    "    #print(\"Train:\", train_index, \"Validation:\", test_index)\n",
    "    X_training, X_validate = X_train.iloc[train_index], X_train.iloc[test_index]\n",
    "    y_training, y_validate = y_train.iloc[train_index], y_train.iloc[test_index]\n",
    "    np.random.seed(1001)\n",
    "    RF_model_IC.fit(X_training,y_training)\n",
    "    y_train_predicted = RF_model_IC.predict(X_validate)\n",
    "    number_ob =X_validate.shape[0]\n",
    "    squared_deviations=(y_train_predicted-y_validate)**2\n",
    "    RMSE=math.sqrt(squared_deviations.sum()/number_ob)\n",
    "    train_results.append([y_validate,y_train_predicted,RMSE])\n"
   ]
  },
  {
   "cell_type": "code",
   "execution_count": 10,
   "metadata": {},
   "outputs": [
    {
     "data": {
      "text/plain": [
       "135"
      ]
     },
     "execution_count": 10,
     "metadata": {},
     "output_type": "execute_result"
    }
   ],
   "source": [
    "len(y_training)+len(y_validate)"
   ]
  },
  {
   "cell_type": "code",
   "execution_count": 20,
   "metadata": {},
   "outputs": [
    {
     "data": {
      "text/plain": [
       "20.728278257396795"
      ]
     },
     "execution_count": 20,
     "metadata": {},
     "output_type": "execute_result"
    }
   ],
   "source": [
    "Train_results = pd.DataFrame (train_results,columns=train_results_name)\n",
    "\n",
    "predict_results = pd.DataFrame (Train_results.iloc[:,1])\n",
    "\n",
    "np.average(Train_results['RMSE'])"
   ]
  },
  {
   "cell_type": "code",
   "execution_count": 21,
   "metadata": {},
   "outputs": [
    {
     "data": {
      "text/plain": [
       "18.999300885549033"
      ]
     },
     "execution_count": 21,
     "metadata": {},
     "output_type": "execute_result"
    }
   ],
   "source": [
    "np.random.seed(1001)\n",
    "RF_model_IC.fit(X_train,y_train)\n",
    "y_predict = RF_model_IC.predict(X_test)\n",
    "math.sqrt(stcs.mean((y_predict-y_test)**2))"
   ]
  },
  {
   "cell_type": "code",
   "execution_count": 22,
   "metadata": {},
   "outputs": [],
   "source": [
    "total = sum((y_test-stcs.mean(y_test))**2)\n",
    "unexplained = sum((y_test-y_predict)**2)\n",
    "\n",
    "R_square_test = 1-(unexplained/total)"
   ]
  },
  {
   "cell_type": "code",
   "execution_count": 23,
   "metadata": {},
   "outputs": [
    {
     "data": {
      "text/plain": [
       "0.58375319728973"
      ]
     },
     "execution_count": 23,
     "metadata": {},
     "output_type": "execute_result"
    }
   ],
   "source": [
    "R_square_test"
   ]
  },
  {
   "cell_type": "code",
   "execution_count": 24,
   "metadata": {},
   "outputs": [],
   "source": [
    "Experimental =[]\n",
    "Predicted =[]\n",
    "\n",
    "for i in range(Train_results.shape[0]):\n",
    "    Ex=Train_results.iloc[i,0].to_string(index=False)\n",
    "    Pred = pd.DataFrame(Train_results.iloc[i,1]).to_string(index_names=False,index=False,header=False)\n",
    "    Ex_num = Ex.split(\"\\n \")\n",
    "    Pre = Pred.split(\"\\n \")\n",
    "    a = np.array([float(i) for i in Ex_num])\n",
    "    b = np.array([float(c) for c in Pre])\n",
    "    Experimental.extend(a)\n",
    "    Predicted.extend(b)\n"
   ]
  },
  {
   "cell_type": "code",
   "execution_count": 25,
   "metadata": {},
   "outputs": [],
   "source": [
    "Ex= pd.DataFrame(Experimental)\n",
    "\n",
    "Pred = pd.DataFrame(Predicted)\n",
    "\n",
    "results =pd.concat([Ex,Pred],axis=1,sort=False)"
   ]
  },
  {
   "cell_type": "code",
   "execution_count": 35,
   "metadata": {},
   "outputs": [],
   "source": [
    "results.to_csv('RF-EC-TRAIN-EXPERIMENT-PREDICTED.csv')"
   ]
  },
  {
   "cell_type": "code",
   "execution_count": 26,
   "metadata": {},
   "outputs": [],
   "source": [
    "Pre_y_test = pd.DataFrame(y_predict,index=None)\n",
    "Ex_y_test =pd.DataFrame(y_test)\n",
    "Ex_y_test.reset_index(drop=True, inplace=True)\n",
    "results_test =pd.concat([Ex_y_test,Pre_y_test],axis=1,join='inner')"
   ]
  },
  {
   "cell_type": "code",
   "execution_count": 37,
   "metadata": {},
   "outputs": [],
   "source": [
    "results_test.to_csv('RF-EC-TEST--EXPERIMENT-PREDICTED.csv')"
   ]
  },
  {
   "cell_type": "code",
   "execution_count": 30,
   "metadata": {},
   "outputs": [
    {
     "data": {
      "image/png": "[encoded data removed]",
      "text/plain": [
       "<Figure size 432x288 with 1 Axes>"
      ]
     },
     "metadata": {
      "needs_background": "light"
     },
     "output_type": "display_data"
    }
   ],
   "source": [
    "import numpy\n",
    "import matplotlib.axes as ax\n",
    "import matplotlib.pyplot as plt\n",
    "\n",
    "x= y_test\n",
    "y=y_predict \n",
    "\n",
    "plt.axis([50,360,50,360])\n",
    "plt.scatter(y=results.iloc[:,1],x=results.iloc[:,0],c='deepskyblue',label='Training')\n",
    "plt.scatter(x,y, c='blue',label='Test')\n",
    "plt.plot([50,360],[50,360],label ='True line',c='red')\n",
    "plt.legend(loc='lower right')\n",
    "#plt.title(label='SVM-EC-Results-Plot')\n",
    "\n",
    "plt.xlabel(r'Experimental Initial Cycle Discharge Capacity (mAh/g)')\n",
    "plt.ylabel(r'Predicted Initial Cycle Discharge Capacity (mAh/g)')\n",
    "plt.text(60,280,r'$RMSE_{train}=20.73 mAgh^{-1}$'+'\\n'+r'$RMSE_{test}=19.00 mAgh^{-1}$' +\"\\n\"+ '$R^2_{test}=0.58$')\n",
    "\n",
    "plt.savefig('RF-IC-Predicted-vs-test.png',dpi=600)\n",
    "plt.show()\n",
    "\n"
   ]
  },
  {
   "cell_type": "markdown",
   "metadata": {},
   "source": [
    "# Variable Importance"
   ]
  },
  {
   "cell_type": "code",
   "execution_count": 44,
   "metadata": {},
   "outputs": [
    {
     "name": "stdout",
     "output_type": "stream",
     "text": [
      "Feature: 0, Score: 0.10698\n",
      "Feature: 1, Score: 0.02472\n",
      "Feature: 2, Score: 0.04897\n",
      "Feature: 3, Score: 0.02234\n",
      "Feature: 4, Score: 0.04435\n",
      "Feature: 5, Score: 0.02600\n",
      "Feature: 6, Score: 0.02463\n",
      "Feature: 7, Score: 0.02548\n",
      "Feature: 8, Score: 0.04653\n",
      "Feature: 9, Score: 0.21223\n",
      "Feature: 10, Score: 0.15080\n",
      "Feature: 11, Score: 0.01338\n",
      "Feature: 12, Score: 0.04663\n",
      "Feature: 13, Score: 0.01280\n",
      "Feature: 14, Score: 0.03739\n",
      "Feature: 15, Score: 0.00697\n",
      "Feature: 16, Score: 0.03117\n",
      "Feature: 17, Score: 0.08852\n",
      "Feature: 18, Score: 0.01521\n",
      "Feature: 19, Score: 0.01490\n"
     ]
    },
    {
     "data": {
      "image/png": "[encoded data removed]",
      "text/plain": [
       "<Figure size 432x288 with 1 Axes>"
      ]
     },
     "metadata": {
      "needs_background": "light"
     },
     "output_type": "display_data"
    }
   ],
   "source": [
    "\n",
    "# get importance\n",
    "importance = RF_model_IC.feature_importances_\n",
    "# summarize feature importance\n",
    "for i,v in enumerate(importance):\n",
    "\tprint('Feature: %0d, Score: %.5f' % (i,v))\n",
    "# plot feature importance\n",
    "plt.bar([x for x in range(len(importance))], importance)\n",
    "\n",
    "plt.title(label='Feature Importance Estimated by RF Model for EC Prediction')\n",
    "plt.xlabel(r'Feature Number')\n",
    "plt.ylabel(r'Importance Scores')\n",
    "\n",
    "plt.savefig('RF-EC-Feature_IMPORTANCE.png',dpi=600)\n",
    "plt.show()"
   ]
  },
  {
   "cell_type": "code",
   "execution_count": 32,
   "metadata": {},
   "outputs": [
    {
     "data": {
      "text/plain": [
       "array([0.09460253, 0.03830587, 0.04604882, 0.02777192, 0.02658629,\n",
       "       0.02862865, 0.03653709, 0.03279519, 0.05587573, 0.1869717 ,\n",
       "       0.14888042, 0.01576508, 0.06960857, 0.0153785 , 0.03534778,\n",
       "       0.00865769, 0.01996437, 0.08230101, 0.01450274, 0.01547006])"
      ]
     },
     "execution_count": 32,
     "metadata": {},
     "output_type": "execute_result"
    }
   ],
   "source": [
    "importance"
   ]
  },
  {
   "cell_type": "code",
   "execution_count": null,
   "metadata": {},
   "outputs": [],
   "source": []
  }
 ],
 "metadata": {
  "kernelspec": {
   "display_name": "Python 3",
   "language": "python",
   "name": "python3"
  },
  "language_info": {
   "codemirror_mode": {
    "name": "ipython",
    "version": 3
   },
   "file_extension": ".py",
   "mimetype": "text/x-python",
   "name": "python",
   "nbconvert_exporter": "python",
   "pygments_lexer": "ipython3",
   "version": "3.7.6"
  },
  "latex_envs": {
   "LaTeX_envs_menu_present": true,
   "autoclose": false,
   "autocomplete": true,
   "bibliofile": "biblio.bib",
   "cite_by": "apalike",
   "current_citInitial": 1,
   "eqLabelWithNumbers": true,
   "eqNumInitial": 1,
   "hotkeys": {
    "equation": "Ctrl-E",
    "itemize": "Ctrl-I"
   },
   "labels_anchors": false,
   "latex_user_defs": false,
   "report_style_numbering": false,
   "user_envs_cfg": false
  },
  "toc": {
   "base_numbering": 1,
   "nav_menu": {},
   "number_sections": true,
   "sideBar": true,
   "skip_h1_title": false,
   "title_cell": "Table of Contents",
   "title_sidebar": "Contents",
   "toc_cell": false,
   "toc_position": {},
   "toc_section_display": true,
   "toc_window_display": false
  },
  "varInspector": {
   "cols": {
    "lenName": 16,
    "lenType": 16,
    "lenVar": 40
   },
   "kernels_config": {
    "python": {
     "delete_cmd_postfix": "",
     "delete_cmd_prefix": "del ",
     "library": "var_list.py",
     "varRefreshCmd": "print(var_dic_list())"
    },
    "r": {
     "delete_cmd_postfix": ") ",
     "delete_cmd_prefix": "rm(",
     "library": "var_list.r",
     "varRefreshCmd": "cat(var_dic_list()) "
    }
   },
   "types_to_exclude": [
    "module",
    "function",
    "builtin_function_or_method",
    "instance",
    "_Feature"
   ],
   "window_display": false
  }
 },
 "nbformat": 4,
 "nbformat_minor": 2
}
