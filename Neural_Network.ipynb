{
 "cells": [
  {
   "cell_type": "code",
   "execution_count": 1,
   "metadata": {},
   "outputs": [],
   "source": [
    "import numpy as np;\n",
    "import tensorflow as tf \n",
    "from tensorflow import keras \n",
    "from tensorflow.keras import layers\n",
    "import csv\n",
    "import pandas as pd\n",
    "import sklearn as sk\n",
    "from sklearn.model_selection import KFold \n",
    "import math\n",
    "#import pydot\n",
    "#import graphviz\n",
    "from notebook.services.config import ConfigManager\n",
    "cm = ConfigManager().update('notebook', {'limit_output': 1000})\n",
    "\n",
    "import statistics as stc"
   ]
  },
  {
   "cell_type": "code",
   "execution_count": 10,
   "metadata": {},
   "outputs": [
    {
     "data": {
      "text/plain": [
       "'2.2.0'"
      ]
     },
     "execution_count": 10,
     "metadata": {},
     "output_type": "execute_result"
    }
   ],
   "source": [
    "tf.__version__"
   ]
  },
  {
   "cell_type": "markdown",
   "metadata": {},
   "source": [
    "# Trainset and Testset and Validation set"
   ]
  },
  {
   "cell_type": "code",
   "execution_count": 281,
   "metadata": {},
   "outputs": [],
   "source": [
    "np.random.seed(1001)\n",
    "data = pd.read_csv('NMC_numerical.csv')\n",
    "\n",
    "def data_split (data, test_ratio):\n",
    "    np.random.seed(1001)\n",
    "    df = pd.DataFrame(data)\n",
    "    total_row = df.shape[0]\n",
    "    test_row = round(total_row *test_ratio)\n",
    "    train_row = total_row -test_row\n",
    "    indices =np.random.permutation(total_row)\n",
    "    train_indx, test_idx =indices[:train_row], indices[train_row:]\n",
    "    train,test = df.iloc[train_indx,:], df.iloc[test_idx,:]\n",
    "    X_test = test.iloc[:,0:20]\n",
    "    y_test = test.iloc [:,21]\n",
    "    X_train = train.iloc[:,0:20]\n",
    "    y_train = train.iloc [:,21]\n",
    "    return train,X_train,y_train,X_test,y_test\n",
    "    \n",
    "train,X_train,y_train,X_test,y_test = data_split(data,0.2)\n",
    "\n",
    "\n",
    "# 10-fold cross validation\n",
    "kf = KFold(n_splits=5,random_state =1001,shuffle= True)\n"
   ]
  },
  {
   "cell_type": "markdown",
   "metadata": {},
   "source": [
    "# Construct your Neural Network"
   ]
  },
  {
   "cell_type": "code",
   "execution_count": 7,
   "metadata": {},
   "outputs": [],
   "source": [
    "import keras\n",
    "from keras.models import Sequential\n",
    "from keras.layers import Dense\n",
    "from tensorflow.keras.layers import Activation\n",
    "from tensorflow.keras import optimizers\n",
    "from tensorflow.keras import losses\n",
    "\n",
    "\n",
    "def Deep_neural(lr, hidden_dimension, hidden_layers, reg=0):\n",
    "\n",
    "    initializer = tf.keras.initializers.VarianceScaling(scale=2)\n",
    "\n",
    "    # Reguarizer allows to put penalities on layer parameters or layer activity\n",
    "    # this can be done for Kenral, bias and activity, the below is for kernal one\n",
    "    # and this can be specified further depending on your need\n",
    "    regularizer = tf.keras.regularizers.l2(reg)\n",
    "\n",
    "    model = Sequential()\n",
    "    model.add(Dense(hidden_dimension, activation='relu', kernel_initializer=initializer,\n",
    "                           kernel_regularizer=regularizer, input_dim=20))\n",
    "    for i in range(hidden_layers):\n",
    "\n",
    "            model.add(Dense(hidden_dimension, activation='relu', kernel_initializer=initializer,\n",
    "                           kernel_regularizer=regularizer))\n",
    "    \n",
    "    model.add(Dense(1,activation ='linear',kernel_initializer=initializer,\n",
    "                           kernel_regularizer =regularizer))\n",
    "\n",
    "    \n",
    "    model.compile(metrics='mse',optimizer = optimizers.Adam(learning_rate =lr),loss=losses.MeanAbsolutePercentageError())\n",
    "    return model"
   ]
  },
  {
   "cell_type": "markdown",
   "metadata": {},
   "source": [
    "# Hyperparameter Tuning"
   ]
  },
  {
   "cell_type": "code",
   "execution_count": 6,
   "metadata": {
    "scrolled": true
   },
   "outputs": [
    {
     "name": "stdout",
     "output_type": "stream",
     "text": [
      "9/9 [==============================] - 0s 665us/step - loss: 48.5534 - mse: 6933.9731\n",
      "1/1 [==============================] - 0s 1ms/step - loss: 28.6106 - mse: 2404.8313\n",
      "9/9 [==============================] - 0s 668us/step - loss: 95.2350 - mse: 26702.0137\n",
      "1/1 [==============================] - 0s 1000us/step - loss: 93.7314 - mse: 24155.6855\n",
      "9/9 [==============================] - 0s 776us/step - loss: 183.3030 - mse: 89851.4062\n",
      "1/1 [==============================] - 0s 0s/step - loss: 162.8217 - mse: 71564.4688\n",
      "9/9 [==============================] - 0s 776us/step - loss: 94.7372 - mse: 26494.3848\n",
      "1/1 [==============================] - 0s 1ms/step - loss: 94.6640 - mse: 24686.5410\n",
      "9/9 [==============================] - 0s 775us/step - loss: 83.9729 - mse: 21202.7773\n",
      "1/1 [==============================] - 0s 998us/step - loss: 81.1355 - mse: 20690.2715\n",
      "9/9 [==============================] - 0s 665us/step - loss: 134.2659 - mse: 49306.0625\n",
      "1/1 [==============================] - 0s 0s/step - loss: 119.1096 - mse: 44350.7305\n",
      "9/9 [==============================] - 0s 776us/step - loss: 22.1020 - mse: 3255.5632\n",
      "1/1 [==============================] - 0s 998us/step - loss: 41.2209 - mse: 3898.6514\n",
      "9/9 [==============================] - 0s 777us/step - loss: 97.3000 - mse: 27683.4824\n",
      "1/1 [==============================] - 0s 1ms/step - loss: 96.3607 - mse: 26082.0527\n",
      "9/9 [==============================] - 0s 776us/step - loss: 104.7725 - mse: 31423.3164\n",
      "1/1 [==============================] - 0s 997us/step - loss: 103.1550 - mse: 30272.1055\n",
      "9/9 [==============================] - 0s 776us/step - loss: 135.7738 - mse: 50436.3242\n",
      "1/1 [==============================] - 0s 1ms/step - loss: 121.9309 - mse: 46716.5000\n",
      "9/9 [==============================] - 0s 668us/step - loss: 138.2089 - mse: 54953.8516\n",
      "1/1 [==============================] - 0s 997us/step - loss: 126.8462 - mse: 40761.2773\n",
      "9/9 [==============================] - 0s 668us/step - loss: 132.2240 - mse: 48985.1602\n",
      "1/1 [==============================] - 0s 1ms/step - loss: 126.7256 - mse: 42270.1641\n",
      "9/9 [==============================] - 0s 665us/step - loss: 103.4998 - mse: 30798.5625\n",
      "1/1 [==============================] - 0s 0s/step - loss: 102.0000 - mse: 30291.3301\n",
      "9/9 [==============================] - 0s 776us/step - loss: 97.0094 - mse: 27477.1914\n",
      "1/1 [==============================] - 0s 0s/step - loss: 96.0527 - mse: 25295.5449\n",
      "9/9 [==============================] - 0s 665us/step - loss: 101.3172 - mse: 29326.1445\n",
      "1/1 [==============================] - 0s 0s/step - loss: 100.8667 - mse: 31777.8613\n",
      "9/9 [==============================] - 0s 665us/step - loss: 129.6269 - mse: 50125.2500\n",
      "1/1 [==============================] - 0s 0s/step - loss: 122.3605 - mse: 51213.6055\n",
      "9/9 [==============================] - 0s 776us/step - loss: 112.8313 - mse: 35931.0352\n",
      "1/1 [==============================] - 0s 1ms/step - loss: 112.9750 - mse: 35969.6680\n",
      "9/9 [==============================] - 0s 665us/step - loss: 26.5678 - mse: 2763.3645\n",
      "1/1 [==============================] - 0s 0s/step - loss: 43.2892 - mse: 26530.5586\n",
      "9/9 [==============================] - 0s 776us/step - loss: 110.6556 - mse: 35151.5664\n",
      "1/1 [==============================] - 0s 998us/step - loss: 100.2610 - mse: 28742.8984\n",
      "9/9 [==============================] - 0s 665us/step - loss: 60.2697 - mse: 11650.2402\n",
      "1/1 [==============================] - 0s 997us/step - loss: 50.7639 - mse: 9512.6074\n",
      "9/9 [==============================] - 0s 776us/step - loss: 102.6519 - mse: 30804.5352\n",
      "1/1 [==============================] - 0s 996us/step - loss: 102.3136 - mse: 25855.7812\n",
      "9/9 [==============================] - 0s 665us/step - loss: 99.3361 - mse: 28849.4531\n",
      "1/1 [==============================] - 0s 1ms/step - loss: 98.8502 - mse: 26587.4941\n",
      "9/9 [==============================] - 0s 887us/step - loss: 102.7360 - mse: 30254.5137\n",
      "1/1 [==============================] - 0s 0s/step - loss: 101.1342 - mse: 29487.8066\n",
      "9/9 [==============================] - 0s 776us/step - loss: 144.2977 - mse: 57222.4688\n",
      "1/1 [==============================] - 0s 0s/step - loss: 136.5911 - mse: 47839.8555\n",
      "9/9 [==============================] - 0s 665us/step - loss: 116.0635 - mse: 38905.5117\n",
      "1/1 [==============================] - 0s 999us/step - loss: 108.2496 - mse: 36362.0859\n",
      "9/9 [==============================] - 0s 665us/step - loss: 19.3718 - mse: 2166.4746\n",
      "1/1 [==============================] - 0s 1ms/step - loss: 20.8209 - mse: 2917.3721\n",
      "9/9 [==============================] - 0s 776us/step - loss: 97.5242 - mse: 27430.9668\n",
      "1/1 [==============================] - 0s 1ms/step - loss: 95.9905 - mse: 29137.5332\n",
      "9/9 [==============================] - 0s 665us/step - loss: 99.9977 - mse: 29037.1484\n",
      "1/1 [==============================] - 0s 0s/step - loss: 99.9941 - mse: 27948.5859\n",
      "9/9 [==============================] - 0s 665us/step - loss: 256.9771 - mse: 175628.8750\n",
      "1/1 [==============================] - 0s 1ms/step - loss: 231.7192 - mse: 153755.1406\n",
      "9/9 [==============================] - 0s 887us/step - loss: 88.4360 - mse: 23336.3223\n",
      "1/1 [==============================] - 0s 999us/step - loss: 85.5481 - mse: 23940.0000\n",
      "9/9 [==============================] - 0s 798us/step - loss: 76.8729 - mse: 18718.0508\n",
      "1/1 [==============================] - 0s 0s/step - loss: 61.8526 - mse: 11367.2236\n",
      "9/9 [==============================] - 0s 665us/step - loss: 102.6202 - mse: 30582.8457\n",
      "1/1 [==============================] - 0s 999us/step - loss: 100.6377 - mse: 27588.6777\n",
      "9/9 [==============================] - 0s 775us/step - loss: 100.4189 - mse: 29145.3848\n",
      "1/1 [==============================] - 0s 998us/step - loss: 100.0812 - mse: 28959.4375\n",
      "9/9 [==============================] - 0s 667us/step - loss: 157.0494 - mse: 78437.9922\n",
      "1/1 [==============================] - 0s 1ms/step - loss: 124.5567 - mse: 45205.5820\n",
      "9/9 [==============================] - 0s 665us/step - loss: 91.6765 - mse: 24548.7168\n",
      "1/1 [==============================] - 0s 0s/step - loss: 88.3542 - mse: 24891.0410\n",
      "9/9 [==============================] - 0s 776us/step - loss: 106.6022 - mse: 32378.8008\n",
      "1/1 [==============================] - 0s 0s/step - loss: 97.7268 - mse: 30492.7461\n",
      "9/9 [==============================] - 0s 776us/step - loss: 290.7792 - mse: 229944.7344\n",
      "1/1 [==============================] - 0s 1ms/step - loss: 309.1621 - mse: 183358.7500\n",
      "9/9 [==============================] - 0s 776us/step - loss: 148.1803 - mse: 60125.0820\n",
      "1/1 [==============================] - 0s 997us/step - loss: 145.2066 - mse: 60023.3281\n",
      "9/9 [==============================] - 0s 776us/step - loss: 105.5834 - mse: 31957.6328\n",
      "1/1 [==============================] - 0s 999us/step - loss: 102.2144 - mse: 29750.8750\n",
      "9/9 [==============================] - 0s 665us/step - loss: 100.2385 - mse: 28762.0469\n",
      "1/1 [==============================] - 0s 1ms/step - loss: 99.9890 - mse: 31654.3945\n"
     ]
    }
   ],
   "source": [
    "learning_rate = [0.001,0.01, 0.1]\n",
    "hidden_dim = np.arange(5,21,1).tolist()\n",
    "hidden_l = np.arange(5,21,1).tolist()\n",
    "\n",
    "Results_name = [\"learning_rate\", \"hidden_dimension\", \"hidden_layeres\", \"RMSE\"]\n",
    "Results =[]\n",
    "\n",
    "\n",
    "\n",
    "for i in learning_rate:\n",
    "    for d in hidden_dim:\n",
    "        for l in hidden_l:\n",
    "            for train_index, test_index in kf.split(X_train):\n",
    "                #print(\"Train:\", train_index, \"Validation:\", test_index)\n",
    "                X_training, X_validate = X_train.iloc[train_index], X_train.iloc[test_index]\n",
    "                y_training, y_validate = y_train.iloc[train_index], y_train.iloc[test_index]\n",
    "                initial_model = Deep_neural(\n",
    "                lr=i, hidden_dimension=d, hidden_layers=l)\n",
    "                history = initial_model.fit(\n",
    "                x=X_training, y=y_training, batch_size=15, epochs=1)\n",
    "                A=initial_model.evaluate(x=X_validate, y=y_validate)[1]\n",
    "                rmse = math.sqrt(A)\n",
    "                Results.append([i, d, l, rmse])\n",
    "\n",
    "Results_file = pd.DataFrame(Results, columns =Results_name)\n",
    "Results_file.to_csv(r'hyperparameter.csv',index=False, header =True)"
   ]
  },
  {
   "cell_type": "code",
   "execution_count": 23,
   "metadata": {},
   "outputs": [],
   "source": [
    "Results_file = pd.DataFrame(Results, columns =Results_name)"
   ]
  },
  {
   "cell_type": "code",
   "execution_count": 26,
   "metadata": {},
   "outputs": [],
   "source": [
    "Results_file.to_csv(r'hyperparameter_optimisation_results.csv',index=False, header =True)"
   ]
  },
  {
   "cell_type": "markdown",
   "metadata": {},
   "source": [
    "# Save the history in dict format using pickle (Loss against epochs)"
   ]
  },
  {
   "cell_type": "code",
   "execution_count": 41,
   "metadata": {},
   "outputs": [
    {
     "ename": "TypeError",
     "evalue": "write() argument must be str, not bytes",
     "output_type": "error",
     "traceback": [
      "\u001b[0;31m---------------------------------------------------------------------------\u001b[0m",
      "\u001b[0;31mTypeError\u001b[0m                                 Traceback (most recent call last)",
      "\u001b[0;32m<ipython-input-41-f1532c3a5243>\u001b[0m in \u001b[0;36m<module>\u001b[0;34m\u001b[0m\n\u001b[1;32m      1\u001b[0m \u001b[0;32mimport\u001b[0m \u001b[0mpickle\u001b[0m\u001b[0;34m\u001b[0m\u001b[0;34m\u001b[0m\u001b[0m\n\u001b[0;32m----> 2\u001b[0;31m \u001b[0mpickle\u001b[0m\u001b[0;34m.\u001b[0m\u001b[0mdump\u001b[0m\u001b[0;34m(\u001b[0m \u001b[0mhistory\u001b[0m\u001b[0;34m.\u001b[0m\u001b[0mhistory\u001b[0m\u001b[0;34m,\u001b[0m \u001b[0mopen\u001b[0m\u001b[0;34m(\u001b[0m \u001b[0;34m\"history_1000_IC.p\"\u001b[0m\u001b[0;34m,\u001b[0m \u001b[0;34m\"a\"\u001b[0m \u001b[0;34m)\u001b[0m \u001b[0;34m)\u001b[0m\u001b[0;34m\u001b[0m\u001b[0;34m\u001b[0m\u001b[0m\n\u001b[0m\u001b[1;32m      3\u001b[0m \u001b[0;31m#history = pickle.load(open('/trainHistoryDict'), \"rb\")\u001b[0m\u001b[0;34m\u001b[0m\u001b[0;34m\u001b[0m\u001b[0;34m\u001b[0m\u001b[0m\n",
      "\u001b[0;31mTypeError\u001b[0m: write() argument must be str, not bytes"
     ]
    }
   ],
   "source": [
    "import pickle\n",
    "pickle.dump( history.history, open( \"history_1000_IC.p\", \"a\" ) )\n",
    "#history = pickle.load(open('/trainHistoryDict'), \"rb\")"
   ]
  },
  {
   "cell_type": "code",
   "execution_count": 43,
   "metadata": {},
   "outputs": [],
   "source": [
    "with open ('file','w') as f:\n",
    "    ab= csv.writer(f,quoting =csv.QUOTE_ALL)\n",
    "    ab.writerow(Results)"
   ]
  },
  {
   "cell_type": "code",
   "execution_count": 19,
   "metadata": {},
   "outputs": [],
   "source": [
    "import pickle \n",
    "\n",
    "with open ('outfile','wb') as fp:\n",
    "    pickle.dump(Results,fp)"
   ]
  },
  {
   "cell_type": "code",
   "execution_count": 20,
   "metadata": {},
   "outputs": [
    {
     "ename": "UnsupportedOperation",
     "evalue": "read",
     "output_type": "error",
     "traceback": [
      "\u001b[0;31m---------------------------------------------------------------------------\u001b[0m",
      "\u001b[0;31mUnsupportedOperation\u001b[0m                      Traceback (most recent call last)",
      "\u001b[0;32m<ipython-input-20-c52adc308ab5>\u001b[0m in \u001b[0;36m<module>\u001b[0;34m\u001b[0m\n\u001b[1;32m      1\u001b[0m \u001b[0;32mwith\u001b[0m \u001b[0mopen\u001b[0m \u001b[0;34m(\u001b[0m\u001b[0;34m'outfile'\u001b[0m\u001b[0;34m,\u001b[0m\u001b[0;34m'wb'\u001b[0m\u001b[0;34m)\u001b[0m \u001b[0;32mas\u001b[0m \u001b[0ma\u001b[0m\u001b[0;34m:\u001b[0m\u001b[0;34m\u001b[0m\u001b[0;34m\u001b[0m\u001b[0m\n\u001b[0;32m----> 2\u001b[0;31m     \u001b[0mitem\u001b[0m \u001b[0;34m=\u001b[0m\u001b[0mpickle\u001b[0m\u001b[0;34m.\u001b[0m\u001b[0mload\u001b[0m\u001b[0;34m(\u001b[0m\u001b[0ma\u001b[0m\u001b[0;34m)\u001b[0m\u001b[0;34m\u001b[0m\u001b[0;34m\u001b[0m\u001b[0m\n\u001b[0m",
      "\u001b[0;31mUnsupportedOperation\u001b[0m: read"
     ]
    }
   ],
   "source": [
    "with open ('outfile','wb') as a:\n",
    "    item =pickle.load(a)"
   ]
  },
  {
   "cell_type": "markdown",
   "metadata": {},
   "source": [
    "# Plot the history"
   ]
  },
  {
   "cell_type": "code",
   "execution_count": null,
   "metadata": {},
   "outputs": [],
   "source": [
    "import matplotlib.pyplot as plt\n",
    "\n",
    "# summarize history for loss\n",
    "def epoch_history(a): \n",
    "    plt.plot(a.history['loss'])\n",
    "    plt.title('model loss')\n",
    "    plt.ylabel('loss')\n",
    "    plt.xlabel('epoch')\n",
    "    plt.savefig('history_1000.png')\n",
    "    plt.show()\n",
    "    \n",
    "    #When you close the image displayed by plt.show(), \n",
    "    #the image is closed and freed from memory.\n",
    "    #You should call savefig and savetxt before calling show.\n",
    "    \n",
    "plot_1= epoch_history(history)\n"
   ]
  },
  {
   "cell_type": "markdown",
   "metadata": {},
   "source": [
    "#  Testing"
   ]
  },
  {
   "cell_type": "markdown",
   "metadata": {},
   "source": [
    "# Train-errors"
   ]
  },
  {
   "cell_type": "code",
   "execution_count": 347,
   "metadata": {},
   "outputs": [],
   "source": [
    "Experimental =[]\n",
    "Predicted =[]\n",
    "#RMSE_train=[]\n",
    "for train_index, test_index in kf.split(X_train):\n",
    "                #print(\"Train:\", train_index, \"Validation:\", test_index)\n",
    "                X_training, X_validate = X_train.iloc[train_index], X_train.iloc[test_index]\n",
    "                y_training, y_validate = y_train.iloc[train_index], y_train.iloc[test_index]\n",
    "                \n",
    "                initial_model = Deep_neural(\n",
    "                lr=0.001, hidden_dimension=20, hidden_layers=8)\n",
    "                np.random.seed(1001)\n",
    "                history = initial_model.fit(x=X_training, y=y_training, batch_size=10, epochs=1000,verbose=0)\n",
    "                np.random.seed(1001)\n",
    "                y_predict = initial_model.predict(X_validate)\n",
    "                #RMSE_train = math.sqrt(np.average((y_predict-y_validate)**2))\n",
    "                Experimental.append([y_validate])\n",
    "                Predicted.append(y_predict)\n",
    "                #RMSE_train.append(RMSE_train)\n"
   ]
  },
  {
   "cell_type": "code",
   "execution_count": 348,
   "metadata": {},
   "outputs": [],
   "source": [
    "Predicted_train_value =[]\n",
    "\n",
    "for i in Predicted:\n",
    "    for b in i:\n",
    "        for c in b:\n",
    "            Predicted_train_value.append(c)\n",
    "\n"
   ]
  },
  {
   "cell_type": "code",
   "execution_count": 349,
   "metadata": {},
   "outputs": [],
   "source": [
    "Predicted_train_values = pd.DataFrame(Predicted_train_value)\n",
    "Experimental_train_values = pd.DataFrame(Experimental)"
   ]
  },
  {
   "cell_type": "code",
   "execution_count": 350,
   "metadata": {},
   "outputs": [],
   "source": [
    "Experimental_train_value =[]\n",
    "\n",
    "for i in range(Experimental_train_values.shape[0]):\n",
    "    Ex=Experimental_train_values.iloc[i,0].to_string(index=False)\n",
    "    Ex_num = Ex.split(\"\\n \")\n",
    "    a = np.array([float(i) for i in Ex_num])\n",
    "    Experimental_train_value.extend(a)"
   ]
  },
  {
   "cell_type": "code",
   "execution_count": 351,
   "metadata": {},
   "outputs": [],
   "source": [
    "Experimental_train_value =pd.DataFrame(Experimental_train_value)\n",
    "Experimental_train_value\n",
    "\n",
    "results =pd.concat([Experimental_train_value,Predicted_train_values],axis=1, sort=False)"
   ]
  },
  {
   "cell_type": "code",
   "execution_count": 370,
   "metadata": {},
   "outputs": [],
   "source": [
    "results.to_csv('EC-ANN-TRAIN-PREDICTED.csv')"
   ]
  },
  {
   "cell_type": "code",
   "execution_count": 352,
   "metadata": {},
   "outputs": [],
   "source": [
    "RMSE_train = math.sqrt(np.average((results.iloc[:,0]-results.iloc[:,1])**2))"
   ]
  },
  {
   "cell_type": "code",
   "execution_count": 353,
   "metadata": {},
   "outputs": [
    {
     "data": {
      "text/plain": [
       "36.59755270815279"
      ]
     },
     "execution_count": 353,
     "metadata": {},
     "output_type": "execute_result"
    }
   ],
   "source": [
    "RMSE_train"
   ]
  },
  {
   "cell_type": "markdown",
   "metadata": {},
   "source": [
    "Results_file.to_csv('IC-NMC-PRE-OBS-TRAIN.csv',index=False, header =True)"
   ]
  },
  {
   "cell_type": "code",
   "execution_count": 354,
   "metadata": {},
   "outputs": [],
   "source": [
    "\n",
    "\n",
    "\"\"\"verbose=0 will show you nothing (silent)\n",
    "\n",
    "verbose=1 will show you an animated progress bar like this:\n",
    "\n",
    "progres_bar\n",
    "\n",
    "verbose=2 will just mention the number of epoch like\"\"\"\n",
    "np.random.seed(1001)\n",
    "optimal_history = initial_model.fit(x=X_train,y=y_train,batch_size=10, epochs=1000,verbose =0)\n",
    "np.random.seed(1001)\n",
    "prediction_y = initial_model.predict(x= X_test)\n",
    "prediction_y = np.ravel(prediction_y)\n",
    "y_test = np.array(y_test)\n"
   ]
  },
  {
   "cell_type": "code",
   "execution_count": 355,
   "metadata": {},
   "outputs": [],
   "source": [
    "Pre_y_test = pd.DataFrame(prediction_y,index=None)\n",
    "Ex_y_test =pd.DataFrame(y_test)\n",
    "Ex_y_test.reset_index(drop=True, inplace=True)\n",
    "results_test =pd.concat([Ex_y_test,Pre_y_test],axis=1,join='inner')"
   ]
  },
  {
   "cell_type": "code",
   "execution_count": 371,
   "metadata": {},
   "outputs": [],
   "source": [
    "results_test.to_csv('EC_ANN_TEST_PREDICT.csv')"
   ]
  },
  {
   "cell_type": "code",
   "execution_count": 356,
   "metadata": {},
   "outputs": [],
   "source": [
    "\n",
    "RMSE = math.sqrt(np.average((prediction_y-y_test)**2))\n",
    "SS_res = sum((prediction_y-y_test)**2)\n",
    "SS_tot = sum((y_test-stc.mean(y_test))**2)\n",
    "SS_reg = sum((prediction_y-np.average(y_test))**2)\n"
   ]
  },
  {
   "cell_type": "code",
   "execution_count": 357,
   "metadata": {},
   "outputs": [
    {
     "data": {
      "text/plain": [
       "0.13396352430017866"
      ]
     },
     "execution_count": 357,
     "metadata": {},
     "output_type": "execute_result"
    }
   ],
   "source": [
    "1-(SS_res/SS_tot)"
   ]
  },
  {
   "cell_type": "code",
   "execution_count": 358,
   "metadata": {},
   "outputs": [
    {
     "data": {
      "text/plain": [
       "26.100059108233523"
      ]
     },
     "execution_count": 358,
     "metadata": {},
     "output_type": "execute_result"
    }
   ],
   "source": [
    "R_sq = 1-(SS_res/SS_tot)\n",
    "R_sq\n",
    "RMSE"
   ]
  },
  {
   "cell_type": "code",
   "execution_count": 346,
   "metadata": {},
   "outputs": [
    {
     "name": "stdout",
     "output_type": "stream",
     "text": [
      "18803.208563741802\n",
      "26743.960047058823\n",
      "23421.73012727499\n"
     ]
    }
   ],
   "source": [
    "print(SS_res)\n",
    "print(SS_tot)\n",
    "print(SS_reg)"
   ]
  },
  {
   "cell_type": "code",
   "execution_count": 369,
   "metadata": {},
   "outputs": [
    {
     "data": {
      "image/png": "[encoded data removed]",
      "text/plain": [
       "<Figure size 432x288 with 1 Axes>"
      ]
     },
     "metadata": {
      "needs_background": "light"
     },
     "output_type": "display_data"
    }
   ],
   "source": [
    "import numpy\n",
    "import matplotlib.axes as ax\n",
    "import matplotlib.pyplot as plt\n",
    "\n",
    "x= y_test\n",
    "y=prediction_y \n",
    "\n",
    "plt.axis([30,330,30,330])\n",
    "plt.scatter(y=results.iloc[:,1],x=results.iloc[:,0],c='deepskyblue',label='Training')\n",
    "plt.scatter(x,y, c='blue',label='Test')\n",
    "plt.plot([30,330],[30,330],label ='True line',c='red')\n",
    "plt.legend(loc='lower right')\n",
    "#plt.title(label='SVM-EC-Results-Plot')\n",
    "\n",
    "plt.xlabel(r'Experimental $50^{th}$ Cycle Discharge Capacity (mAh/g)')\n",
    "plt.ylabel(r'Prediscted $50^{th}$ Cycle Discharge Capacity (mAh/g)')\n",
    "plt.text(40,230,r'$RMSE_{train}=36.59 mAgh^{-1}$'+'\\n'+r'$RMSE_{test}=26.10 mAgh^{-1}$' +\"\\n\"+ '$R^2_{test}=0.13$')\n",
    "\n",
    "plt.savefig('ANN-EC-Predicted-vs-test.png',dpi=600)\n",
    "plt.show()\n",
    "\n"
   ]
  },
  {
   "cell_type": "markdown",
   "metadata": {},
   "source": [
    "# Save the model (last step) "
   ]
  },
  {
   "cell_type": "code",
   "execution_count": 372,
   "metadata": {},
   "outputs": [
    {
     "name": "stdout",
     "output_type": "stream",
     "text": [
      "INFO:tensorflow:Assets written to: /Users/mike/Dropbox/Mike Wang/Doped_NMC/ANN/EC/assets\n"
     ]
    }
   ],
   "source": [
    "initial_model.save('/Users/mike/Dropbox/Mike Wang/Doped_NMC/ANN/EC')"
   ]
  },
  {
   "cell_type": "code",
   "execution_count": null,
   "metadata": {},
   "outputs": [],
   "source": []
  }
 ],
 "metadata": {
  "kernelspec": {
   "display_name": "Python 3",
   "language": "python",
   "name": "python3"
  },
  "language_info": {
   "codemirror_mode": {
    "name": "ipython",
    "version": 3
   },
   "file_extension": ".py",
   "mimetype": "text/x-python",
   "name": "python",
   "nbconvert_exporter": "python",
   "pygments_lexer": "ipython3",
   "version": "3.7.3"
  },
  "latex_envs": {
   "LaTeX_envs_menu_present": true,
   "autoclose": false,
   "autocomplete": true,
   "bibliofile": "biblio.bib",
   "cite_by": "apalike",
   "current_citInitial": 1,
   "eqLabelWithNumbers": true,
   "eqNumInitial": 1,
   "hotkeys": {
    "equation": "Ctrl-E",
    "itemize": "Ctrl-I"
   },
   "labels_anchors": false,
   "latex_user_defs": false,
   "report_style_numbering": false,
   "user_envs_cfg": false
  },
  "toc": {
   "base_numbering": 1,
   "nav_menu": {},
   "number_sections": true,
   "sideBar": true,
   "skip_h1_title": false,
   "title_cell": "Table of Contents",
   "title_sidebar": "Contents",
   "toc_cell": false,
   "toc_position": {},
   "toc_section_display": true,
   "toc_window_display": false
  },
  "varInspector": {
   "cols": {
    "lenName": 16,
    "lenType": 16,
    "lenVar": 40
   },
   "kernels_config": {
    "python": {
     "delete_cmd_postfix": "",
     "delete_cmd_prefix": "del ",
     "library": "var_list.py",
     "varRefreshCmd": "print(var_dic_list())"
    },
    "r": {
     "delete_cmd_postfix": ") ",
     "delete_cmd_prefix": "rm(",
     "library": "var_list.r",
     "varRefreshCmd": "cat(var_dic_list()) "
    }
   },
   "types_to_exclude": [
    "module",
    "function",
    "builtin_function_or_method",
    "instance",
    "_Feature"
   ],
   "window_display": false
  }
 },
 "nbformat": 4,
 "nbformat_minor": 2
}
