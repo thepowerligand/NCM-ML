{
 "cells": [
  {
   "cell_type": "code",
   "execution_count": 1,
   "metadata": {},
   "outputs": [],
   "source": [
    "import numpy as np;\n",
    "import csv\n",
    "import pandas as pd\n",
    "from sklearn.ensemble import RandomForestRegressor\n",
    "from sklearn.model_selection import KFold \n",
    "import math\n",
    "\n",
    "import sklearn\n",
    "import statistics as stcs\n",
    "import matplotlib.pyplot as plt\n",
    "import scipy.stats as stats\n",
    "from sklearn.model_selection import GridSearchCV, RandomizedSearchCV\n",
    "from sklearn.svm import SVR\n",
    "from sklearn.pipeline import make_pipeline\n",
    "from sklearn.preprocessing import StandardScaler,scale,MinMaxScaler\n",
    "from scipy.stats import uniform,expon\n",
    "from sklearn.model_selection import cross_val_score\n",
    "from time import time"
   ]
  },
  {
   "cell_type": "code",
   "execution_count": 2,
   "metadata": {},
   "outputs": [],
   "source": [
    "data = pd.read_csv('NMC_numerical_new.csv')\n",
    "\n",
    "np.random.seed(1001)\n",
    "def data_split (data, test_ratio):\n",
    "    df = pd.DataFrame(data)\n",
    "    total_row = df.shape[0]\n",
    "    test_row = round(total_row *test_ratio)\n",
    "    train_row = total_row -test_row\n",
    "    indices =np.random.permutation(total_row)\n",
    "    train_indx, test_idx =indices[:train_row], indices[train_row:]\n",
    "    train,test = df.iloc[train_indx,:], df.iloc[test_idx,:]\n",
    "    X_test = test.iloc[:,0:20]\n",
    "    y_test = test.iloc [:,21]\n",
    "    X_train = train.iloc[:,0:20]\n",
    "    y_train = train.iloc [:,21]\n",
    "    return train,test,X_train,y_train,X_test,y_test\n",
    "    \n",
    "train,test,X_train,y_train,X_test,y_test = data_split(data,0.2)\n",
    "\n",
    "kf = KFold(n_splits=5,random_state =1001,shuffle= True)\n",
    "\n"
   ]
  },
  {
   "cell_type": "code",
   "execution_count": 3,
   "metadata": {},
   "outputs": [
    {
     "data": {
      "text/plain": [
       "168"
      ]
     },
     "execution_count": 3,
     "metadata": {},
     "output_type": "execute_result"
    }
   ],
   "source": [
    "len(data)"
   ]
  },
  {
   "cell_type": "markdown",
   "metadata": {},
   "source": [
    "scaling = MinMaxScaler(feature_range=(-1,1)).fit(X_train)\n",
    "X_train = scaling.transform(X_train)\n",
    "X_test = pd.DataFrame(scaling.transform(X_test))"
   ]
  },
  {
   "cell_type": "code",
   "execution_count": 4,
   "metadata": {
    "scrolled": true
   },
   "outputs": [
    {
     "name": "stdout",
     "output_type": "stream",
     "text": [
      "StandardScaler(copy=True, with_mean=True, with_std=True)\n",
      "[1.05208824e+00 4.25588235e-01 1.81647059e-01 3.15529412e-01\n",
      " 2.68823529e-02 2.86428529e+00 1.42256471e+01 1.01076471e+02\n",
      " 1.13000000e+02 2.54117647e+00 4.52352941e+00 6.67797059e+01\n",
      " 9.23191176e+01 2.94411765e+01 1.44000000e+00 1.38529412e+01\n",
      " 6.39323529e+02 3.96500000e-01 1.80500000e+02 1.53970588e+02]\n",
      "StandardScaler(copy=True, with_mean=True, with_std=True)\n",
      "[1.05261940e+00 4.51925373e-01 1.75783582e-01 2.91761194e-01\n",
      " 2.78283582e-02 2.86454104e+00 1.42276515e+01 1.01108015e+02\n",
      " 1.18234328e+02 2.53358209e+00 4.52611940e+00 6.84517164e+01\n",
      " 9.22191791e+01 3.01791045e+01 1.48156716e+00 1.45074627e+01\n",
      " 6.33216418e+02 4.24947761e-01 1.75328358e+02 1.53992537e+02]\n"
     ]
    }
   ],
   "source": [
    "clf = StandardScaler(with_mean=True,with_std=True)\n",
    "print(clf.fit(X_test))\n",
    "print(clf.mean_)\n",
    "\n",
    "X_test = pd.DataFrame(clf.transform(X_test))\n",
    "\n",
    "print(clf.fit(X_train))\n",
    "print(clf.mean_)\n",
    "X_train = pd.DataFrame(clf.transform(X_train))"
   ]
  },
  {
   "cell_type": "code",
   "execution_count": 143,
   "metadata": {},
   "outputs": [
    {
     "name": "stdout",
     "output_type": "stream",
     "text": [
      "Fitting 5 folds for each of 6000 candidates, totalling 30000 fits\n"
     ]
    },
    {
     "name": "stderr",
     "output_type": "stream",
     "text": [
      "/Users/mike/anaconda3/lib/python3.7/site-packages/sklearn/model_selection/_search.py:266: UserWarning: The total space of parameters 6000 is smaller than n_iter=20000. Running 6000 iterations. For exhaustive searches, use GridSearchCV.\n",
      "  % (grid_size, self.n_iter, grid_size), UserWarning)\n",
      "[Parallel(n_jobs=-1)]: Using backend LokyBackend with 16 concurrent workers.\n",
      "[Parallel(n_jobs=-1)]: Done   9 tasks      | elapsed:    2.5s\n",
      "[Parallel(n_jobs=-1)]: Done  18 tasks      | elapsed:    2.6s\n",
      "[Parallel(n_jobs=-1)]: Done  29 tasks      | elapsed:    2.6s\n",
      "[Parallel(n_jobs=-1)]: Done  40 tasks      | elapsed:    2.7s\n",
      "[Parallel(n_jobs=-1)]: Batch computation too fast (0.1875s.) Setting batch_size=2.\n",
      "[Parallel(n_jobs=-1)]: Done  53 tasks      | elapsed:    2.7s\n",
      "[Parallel(n_jobs=-1)]: Done  66 tasks      | elapsed:    2.7s\n",
      "[Parallel(n_jobs=-1)]: Done  81 tasks      | elapsed:    2.8s\n",
      "[Parallel(n_jobs=-1)]: Batch computation too fast "
     ]
    },
    {
     "data": {
      "text/html": [
       "<b>limit_output extension: Maximum message size of 1000 exceeded with 1095 characters</b>"
      ]
     },
     "metadata": {},
     "output_type": "display_data"
    }
   ],
   "source": [
    "rand_para = {'C':range(291,411),'gamma':np.logspace(-2,-1),'kernel':['rbf']}\n",
    "svm_model =SVR()\n",
    "n_iteration = 20000\n",
    "Scoring = ['explained_variance','neg_mean_squared_error',\"r2\"]\n",
    "random_search = RandomizedSearchCV(svm_model,param_distributions=rand_para,cv =5,scoring=Scoring,\n",
    "                                   error_score=0,random_state=1001,return_train_score=True,n_jobs=-1,n_iter=n_iteration,verbose=10,refit=False)\n",
    "\n",
    "\n",
    "start = time()\n",
    "\n",
    "random_search.fit(X_train,y_train)\n",
    "\n",
    "#y_predict=random_search.predict(X_test)\n",
    "#math.sqrt(stcs.mean((y_predict-y_test)**2))\n",
    "\n"
   ]
  },
  {
   "cell_type": "code",
   "execution_count": 144,
   "metadata": {},
   "outputs": [],
   "source": [
    "a=pd.DataFrame(random_search.cv_results_)"
   ]
  },
  {
   "cell_type": "markdown",
   "metadata": {},
   "source": [
    "model=random_search.best_params_\n",
    "\n",
    "y_predict= random_search.predict(X_test)\n",
    "math.sqrt(stcs.mean((y_predict-y_test)**2))"
   ]
  },
  {
   "cell_type": "markdown",
   "metadata": {},
   "source": [
    "y_predict=random_search.predict(X_test)\n",
    "math.sqrt(stcs.mean((y_predict-y_test)**2))"
   ]
  },
  {
   "cell_type": "code",
   "execution_count": 145,
   "metadata": {},
   "outputs": [],
   "source": [
    "a.to_csv('T3_EC_NMC_SVR_hp_5_fold.csv')"
   ]
  },
  {
   "cell_type": "markdown",
   "metadata": {},
   "source": [
    "# Model training"
   ]
  },
  {
   "cell_type": "code",
   "execution_count": 5,
   "metadata": {},
   "outputs": [],
   "source": [
    "svm_model_optimal =SVR(kernel ='rbf',gamma=0.044984327,C=281.1768698)\n",
    "np.random.seed(1001)\n",
    "svm_model_optimal.fit(X_train,y_train)\n",
    "y_predict=svm_model_optimal.predict(X_test)"
   ]
  },
  {
   "cell_type": "code",
   "execution_count": 6,
   "metadata": {},
   "outputs": [
    {
     "data": {
      "text/plain": [
       "19.38318126014342"
      ]
     },
     "execution_count": 6,
     "metadata": {},
     "output_type": "execute_result"
    }
   ],
   "source": [
    "math.sqrt(stcs.mean((y_predict-y_test)**2))"
   ]
  },
  {
   "cell_type": "code",
   "execution_count": 7,
   "metadata": {},
   "outputs": [
    {
     "data": {
      "text/plain": [
       "0.41205272590071185"
      ]
     },
     "execution_count": 7,
     "metadata": {},
     "output_type": "execute_result"
    }
   ],
   "source": [
    "math.sqrt(stcs.mean((y_predict-y_test)**2))\n",
    "\n",
    "SS_res = sum((y_predict-y_test)**2)\n",
    "SS_tot = sum((y_test-stcs.mean(y_test))**2)\n",
    "\n",
    "1-SS_res/SS_tot"
   ]
  },
  {
   "cell_type": "markdown",
   "metadata": {},
   "source": [
    "import numpy\n",
    "import matplotlib.axes as ax\n",
    "import matplotlib.pyplot as plt\n",
    "\n",
    "x= y_test\n",
    "y=y_predict \n",
    "\n",
    "plt.axis([50,300,50,300])\n",
    "plt.scatter(y=results.iloc[:,1],x=results.iloc[:,0],c='deepskyblue',label='Training')\n",
    "plt.scatter(x,y, c='blue',label='Test')\n",
    "plt.plot([50,300],[50,300],label ='True line',c='red')\n",
    "plt.legend(loc='lower right')\n",
    "plt.title(label='SVM-EC-Results-Plot')\n",
    "\n",
    "plt.xlabel('Experimental 50th cycle Discharge Capacity (mAh/g)')\n",
    "plt.ylabel('Predicted 50th cycle Discharge Capacity (mAh/g)')\n",
    "plt.text(60,230,r'$RMSE_{train}=19.66mAgh^{-1}$'+'\\n'+r'$RMSE_{test}=23.28mAgh^{-1}$' +\"\\n\"+ '$R^2_{test}=0.31$')\n",
    "\n",
    "plt.savefig('SVM-EC-Predicted-vs-test.png',dpi=500)\n",
    "plt.show()\n",
    "\n"
   ]
  },
  {
   "cell_type": "code",
   "execution_count": 8,
   "metadata": {},
   "outputs": [],
   "source": [
    "np.random.seed(1001)\n",
    "\n",
    "svm_model_train =SVR(kernel ='rbf',gamma=0.044984327,C=126.4855217)\n",
    "\n",
    "train_results =[]\n",
    "train_results_name =['Experimental IC','Predicted IC','RMSE']\n",
    "\n",
    "\n",
    "for train_index, test_index in kf.split(X_train):\n",
    "    #print(\"Train:\", train_index, \"Validation:\", test_index)\n",
    "    X_training, X_validate = X_train.iloc[train_index], X_train.iloc[test_index]\n",
    "    y_training, y_validate = y_train.iloc[train_index], y_train.iloc[test_index]\n",
    "    np.random.seed(1001)\n",
    "    svm_model_train.fit(X_training,y_training)\n",
    "    y_train_predicted = svm_model_train.predict(X_validate)\n",
    "    number_ob =X_validate.shape[0]\n",
    "    squared_deviations=(y_train_predicted-y_validate)**2\n",
    "    RMSE=math.sqrt(squared_deviations.sum()/number_ob)\n",
    "    #RMSE = math.sqrt(stcs.mean((y_train_predicted-y_validate)**2))\n",
    "    train_results.append([y_validate,y_train_predicted,RMSE])\n"
   ]
  },
  {
   "cell_type": "code",
   "execution_count": 9,
   "metadata": {},
   "outputs": [],
   "source": [
    "Train_results =pd.DataFrame (train_results,columns=train_results_name)"
   ]
  },
  {
   "cell_type": "code",
   "execution_count": 10,
   "metadata": {},
   "outputs": [
    {
     "data": {
      "text/plain": [
       "22.003892239590357"
      ]
     },
     "execution_count": 10,
     "metadata": {},
     "output_type": "execute_result"
    }
   ],
   "source": [
    "np.average(Train_results['RMSE'])"
   ]
  },
  {
   "cell_type": "code",
   "execution_count": 20,
   "metadata": {},
   "outputs": [],
   "source": [
    "predict_results = pd.DataFrame (Train_results.iloc[:,1])\n",
    "\n",
    "#predict_results.drop(labels=None)"
   ]
  },
  {
   "cell_type": "code",
   "execution_count": 21,
   "metadata": {},
   "outputs": [],
   "source": [
    "Experimental =[]\n",
    "Predicted =[]\n",
    "\n",
    "for i in range(Train_results.shape[0]):\n",
    "    Ex=Train_results.iloc[i,0].to_string(index=False)\n",
    "    Pred = pd.DataFrame(Train_results.iloc[i,1]).to_string(index_names=False,index=False,header=False)\n",
    "    Ex_num = Ex.split(\"\\n \")\n",
    "    Pre = Pred.split(\"\\n \")\n",
    "    a = np.array([float(i) for i in Ex_num])\n",
    "    b = np.array([float(c) for c in Pre])\n",
    "    Experimental.extend(a)\n",
    "    Predicted.extend(b)\n"
   ]
  },
  {
   "cell_type": "code",
   "execution_count": 22,
   "metadata": {},
   "outputs": [],
   "source": [
    "Ex= pd.DataFrame(Experimental)\n",
    "\n",
    "Pred = pd.DataFrame(Predicted)\n",
    "\n",
    "results =pd.concat([Ex,Pred],axis=1,sort=False)"
   ]
  },
  {
   "cell_type": "code",
   "execution_count": 215,
   "metadata": {},
   "outputs": [],
   "source": [
    "results.to_csv('SVM-EC-TRAIN-EXPERIMENT-PREDICTED.csv')"
   ]
  },
  {
   "cell_type": "code",
   "execution_count": 23,
   "metadata": {},
   "outputs": [],
   "source": [
    "Pre_y_test = pd.DataFrame(y_predict,index=None)"
   ]
  },
  {
   "cell_type": "code",
   "execution_count": 24,
   "metadata": {},
   "outputs": [],
   "source": [
    "Ex_y_test =pd.DataFrame(y_test)\n",
    "Ex_y_test.reset_index(drop=True, inplace=True)"
   ]
  },
  {
   "cell_type": "code",
   "execution_count": 25,
   "metadata": {},
   "outputs": [],
   "source": [
    "results_test =pd.concat([Ex_y_test,Pre_y_test],axis=1,join='inner')"
   ]
  },
  {
   "cell_type": "code",
   "execution_count": 221,
   "metadata": {},
   "outputs": [],
   "source": [
    "results_test.to_csv('SVM-EC-TEST--EXPERIMENT-PREDICTED.csv')"
   ]
  },
  {
   "cell_type": "code",
   "execution_count": 26,
   "metadata": {},
   "outputs": [
    {
     "data": {
      "image/png": "[encoded data removed]",
      "text/plain": [
       "<Figure size 432x288 with 1 Axes>"
      ]
     },
     "metadata": {
      "needs_background": "light"
     },
     "output_type": "display_data"
    }
   ],
   "source": [
    "import numpy\n",
    "import matplotlib.axes as ax\n",
    "import matplotlib.pyplot as plt\n",
    "\n",
    "x= y_test\n",
    "y=y_predict \n",
    "\n",
    "plt.axis([50,360,50,360])\n",
    "plt.scatter(y=results.iloc[:,1],x=results.iloc[:,0],c='deepskyblue',label='Training')\n",
    "plt.scatter(x,y, c='blue',label='Test')\n",
    "plt.plot([50,360],[50,360],label ='True line',c='red')\n",
    "plt.legend(loc='lower right')\n",
    "#plt.title(label='SVM-EC-Results-Plot')\n",
    "\n",
    "plt.xlabel(r'Experimental Initial Discharge Capacity (mAh/g)')\n",
    "plt.ylabel(r'Prediscted Initial Discharge Capacity (mAh/g)')\n",
    "plt.text(60,260,r'$RMSE_{train}=22.11mAgh^{-1}$'+'\\n'+r'$RMSE_{test}=21.49 mAgh^{-1}$' +\"\\n\"+ '$R^2_{test}=0.47$')\n",
    "\n",
    "#plt.savefig('SVM-IC-Predicted-vs-test.png',dpi=600)\n",
    "plt.show()\n",
    "\n"
   ]
  },
  {
   "cell_type": "code",
   "execution_count": null,
   "metadata": {},
   "outputs": [],
   "source": []
  }
 ],
 "metadata": {
  "kernelspec": {
   "display_name": "Python 3",
   "language": "python",
   "name": "python3"
  },
  "language_info": {
   "codemirror_mode": {
    "name": "ipython",
    "version": 3
   },
   "file_extension": ".py",
   "mimetype": "text/x-python",
   "name": "python",
   "nbconvert_exporter": "python",
   "pygments_lexer": "ipython3",
   "version": "3.7.6"
  },
  "latex_envs": {
   "LaTeX_envs_menu_present": true,
   "autoclose": false,
   "autocomplete": true,
   "bibliofile": "biblio.bib",
   "cite_by": "apalike",
   "current_citInitial": 1,
   "eqLabelWithNumbers": true,
   "eqNumInitial": 1,
   "hotkeys": {
    "equation": "Ctrl-E",
    "itemize": "Ctrl-I"
   },
   "labels_anchors": false,
   "latex_user_defs": false,
   "report_style_numbering": false,
   "user_envs_cfg": false
  },
  "toc": {
   "base_numbering": 1,
   "nav_menu": {},
   "number_sections": true,
   "sideBar": true,
   "skip_h1_title": false,
   "title_cell": "Table of Contents",
   "title_sidebar": "Contents",
   "toc_cell": false,
   "toc_position": {},
   "toc_section_display": true,
   "toc_window_display": false
  },
  "varInspector": {
   "cols": {
    "lenName": 16,
    "lenType": 16,
    "lenVar": 40
   },
   "kernels_config": {
    "python": {
     "delete_cmd_postfix": "",
     "delete_cmd_prefix": "del ",
     "library": "var_list.py",
     "varRefreshCmd": "print(var_dic_list())"
    },
    "r": {
     "delete_cmd_postfix": ") ",
     "delete_cmd_prefix": "rm(",
     "library": "var_list.r",
     "varRefreshCmd": "cat(var_dic_list()) "
    }
   },
   "types_to_exclude": [
    "module",
    "function",
    "builtin_function_or_method",
    "instance",
    "_Feature"
   ],
   "window_display": false
  }
 },
 "nbformat": 4,
 "nbformat_minor": 4
}
